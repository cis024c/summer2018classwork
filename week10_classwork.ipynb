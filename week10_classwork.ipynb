{
 "cells": [
  {
   "cell_type": "markdown",
   "metadata": {},
   "source": [
    "\n",
    "## Calculator & Inheritance"
   ]
  },
  {
   "cell_type": "code",
   "execution_count": 7,
   "metadata": {},
   "outputs": [
    {
     "name": "stdout",
     "output_type": "stream",
     "text": [
      "Add:5 Subtract:-1\n"
     ]
    }
   ],
   "source": [
    "class Calculator(object):\n",
    "    \n",
    "    def __init__(self,number1,number2):\n",
    "        self._number1 = number1\n",
    "        self._number2 = number2\n",
    "        \n",
    "    def add(self):\n",
    "        \n",
    "        return self._number1 + self._number2\n",
    "    \n",
    "    def subtract(self):\n",
    "        \n",
    "        return self._number1 - self._number2\n",
    "    \n",
    "    def __str__(self):\n",
    "        \n",
    "        return \"Add:%s Subtract:%s\" % (str(self.add()),str(self.subtract()))\n",
    "    \n",
    "myCal = Calculator(2,3)\n",
    "\n",
    "print(myCal)"
   ]
  },
  {
   "cell_type": "code",
   "execution_count": 13,
   "metadata": {},
   "outputs": [],
   "source": [
    "class ScientificCalculator(Calculator):\n",
    "    \n",
    "    def __init__(self,number1,number2):\n",
    "        Calculator.__init__(self,number1,number2)\n",
    "        \n",
    "    def multiply(self):\n",
    "        return self._number1 * self._number2\n",
    "    \n",
    "    def divide(self):\n",
    "        return self._number1 / self._number2"
   ]
  },
  {
   "cell_type": "code",
   "execution_count": 14,
   "metadata": {},
   "outputs": [],
   "source": [
    "s_calc = ScientificCalculator(7,8)"
   ]
  },
  {
   "cell_type": "code",
   "execution_count": 15,
   "metadata": {},
   "outputs": [
    {
     "data": {
      "text/plain": [
       "0.875"
      ]
     },
     "execution_count": 15,
     "metadata": {},
     "output_type": "execute_result"
    }
   ],
   "source": [
    "s_calc.divide()"
   ]
  },
  {
   "cell_type": "code",
   "execution_count": 16,
   "metadata": {},
   "outputs": [
    {
     "data": {
      "text/plain": [
       "56"
      ]
     },
     "execution_count": 16,
     "metadata": {},
     "output_type": "execute_result"
    }
   ],
   "source": [
    "s_calc.multiply()"
   ]
  },
  {
   "cell_type": "markdown",
   "metadata": {},
   "source": [
    "## Employee Class"
   ]
  },
  {
   "cell_type": "code",
   "execution_count": 2,
   "metadata": {},
   "outputs": [],
   "source": [
    "class Employee(object):\n",
    "    \n",
    "    def __init__(self,name,age,salary):\n",
    "        \n",
    "        self.name = name\n",
    "        self.age = age\n",
    "        self.salary = salary\n",
    "        \n",
    "    def setAge(self,newAge):\n",
    "        \n",
    "        self.age = newAge\n",
    "        \n",
    "    def __str__(self):\n",
    "        \n",
    "        return \"Name:%s\\n Age:%s\\n Salary:%s\\n\" % (self.name,self.age,self.salary)\n",
    "        "
   ]
  },
  {
   "cell_type": "code",
   "execution_count": 3,
   "metadata": {},
   "outputs": [],
   "source": [
    "newEmployee = Employee(\"Bob\",35,35000)"
   ]
  },
  {
   "cell_type": "markdown",
   "metadata": {},
   "source": [
    "## Creating a list of employee object"
   ]
  },
  {
   "cell_type": "code",
   "execution_count": 5,
   "metadata": {},
   "outputs": [
    {
     "name": "stdout",
     "output_type": "stream",
     "text": [
      "Name:User-0\n",
      " Age:30\n",
      " Salary:0\n",
      "\n",
      "Name:User-1\n",
      " Age:31\n",
      " Salary:1000\n",
      "\n",
      "Name:User-2\n",
      " Age:32\n",
      " Salary:2000\n",
      "\n",
      "Name:User-3\n",
      " Age:33\n",
      " Salary:3000\n",
      "\n",
      "Name:User-4\n",
      " Age:34\n",
      " Salary:4000\n",
      "\n",
      "Name:User-5\n",
      " Age:35\n",
      " Salary:5000\n",
      "\n",
      "Name:User-6\n",
      " Age:36\n",
      " Salary:6000\n",
      "\n",
      "Name:User-7\n",
      " Age:37\n",
      " Salary:7000\n",
      "\n",
      "Name:User-8\n",
      " Age:38\n",
      " Salary:8000\n",
      "\n",
      "Name:User-9\n",
      " Age:39\n",
      " Salary:9000\n",
      "\n"
     ]
    }
   ],
   "source": [
    "employees = []\n",
    "\n",
    "for i in range(10):\n",
    "    temp = Employee(\"User-\"+str(i),i+30,i*1000)\n",
    "    employees.append(temp)\n",
    "    \n",
    "for employee in employees:\n",
    "    print(employee)\n",
    "    "
   ]
  },
  {
   "cell_type": "code",
   "execution_count": null,
   "metadata": {},
   "outputs": [],
   "source": []
  },
  {
   "cell_type": "code",
   "execution_count": null,
   "metadata": {},
   "outputs": [],
   "source": []
  }
 ],
 "metadata": {
  "kernelspec": {
   "display_name": "Python 3",
   "language": "python",
   "name": "python3"
  },
  "language_info": {
   "codemirror_mode": {
    "name": "ipython",
    "version": 3
   },
   "file_extension": ".py",
   "mimetype": "text/x-python",
   "name": "python",
   "nbconvert_exporter": "python",
   "pygments_lexer": "ipython3",
   "version": "3.6.5"
  }
 },
 "nbformat": 4,
 "nbformat_minor": 1
}
