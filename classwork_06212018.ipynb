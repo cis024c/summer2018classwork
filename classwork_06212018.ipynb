{
 "cells": [
  {
   "cell_type": "markdown",
   "metadata": {},
   "source": [
    "# Compute the balance requirements"
   ]
  },
  {
   "cell_type": "code",
   "execution_count": 4,
   "metadata": {},
   "outputs": [
    {
     "name": "stdout",
     "output_type": "stream",
     "text": [
      "Enter user name:Harry Potter\n",
      "Enter account balance:200000\n",
      "Enter withdrawal amount:50000\n",
      "Enter OD status (True/False):False\n"
     ]
    }
   ],
   "source": [
    "userName = input(\"Enter user name:\")\n",
    "accountBalance = int(input(\"Enter account balance:\"))\n",
    "withdrawalAmount = int(input(\"Enter withdrawal amount:\"))\n",
    "odStatus = input(\"Enter OD status (True/False):\")"
   ]
  },
  {
   "cell_type": "code",
   "execution_count": 2,
   "metadata": {},
   "outputs": [
    {
     "name": "stdout",
     "output_type": "stream",
     "text": [
      "Harry Potter 200000 2000000 False\n"
     ]
    }
   ],
   "source": [
    "print(userName,accountBalance,withdrawalAmount,odStatus)"
   ]
  },
  {
   "cell_type": "code",
   "execution_count": 5,
   "metadata": {},
   "outputs": [
    {
     "name": "stdout",
     "output_type": "stream",
     "text": [
      "Sufficient balance available\n"
     ]
    }
   ],
   "source": [
    "if accountBalance >= withdrawalAmount:\n",
    "    print(\"Sufficient balance available\")\n",
    "elif odStatus == \"True\":\n",
    "    print(\"Sufficient balance unavailable but OD enabled. \")\n",
    "else:\n",
    "    print(\"Insufficient balance and no OD enabled\")"
   ]
  },
  {
   "cell_type": "markdown",
   "metadata": {},
   "source": [
    "# Checking for multiple conditions in if"
   ]
  },
  {
   "cell_type": "code",
   "execution_count": 15,
   "metadata": {},
   "outputs": [],
   "source": [
    "score = 75\n",
    "grade = \"\"\n",
    "if score >= 60 and score <= 70:\n",
    "    grade = \"D\""
   ]
  },
  {
   "cell_type": "code",
   "execution_count": 16,
   "metadata": {},
   "outputs": [
    {
     "name": "stdout",
     "output_type": "stream",
     "text": [
      "D\n"
     ]
    }
   ],
   "source": [
    "print(grade)"
   ]
  },
  {
   "cell_type": "code",
   "execution_count": 17,
   "metadata": {},
   "outputs": [],
   "source": [
    "if score <= 60 or score >= 70:\n",
    "    grade = \"X\""
   ]
  },
  {
   "cell_type": "code",
   "execution_count": 18,
   "metadata": {},
   "outputs": [
    {
     "name": "stdout",
     "output_type": "stream",
     "text": [
      "X\n"
     ]
    }
   ],
   "source": [
    "print(grade)"
   ]
  },
  {
   "cell_type": "code",
   "execution_count": null,
   "metadata": {},
   "outputs": [],
   "source": []
  }
 ],
 "metadata": {
  "kernelspec": {
   "display_name": "Python 3",
   "language": "python",
   "name": "python3"
  },
  "language_info": {
   "codemirror_mode": {
    "name": "ipython",
    "version": 3
   },
   "file_extension": ".py",
   "mimetype": "text/x-python",
   "name": "python",
   "nbconvert_exporter": "python",
   "pygments_lexer": "ipython3",
   "version": "3.6.1"
  }
 },
 "nbformat": 4,
 "nbformat_minor": 2
}
