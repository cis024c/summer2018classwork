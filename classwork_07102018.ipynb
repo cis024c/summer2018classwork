{
 "cells": [
  {
   "cell_type": "code",
   "execution_count": 6,
   "metadata": {
    "collapsed": false
   },
   "outputs": [
    {
     "name": "stdout",
     "output_type": "stream",
     "text": [
      "Overwriting add.py\n"
     ]
    }
   ],
   "source": [
    "%%writefile add.py\n",
    "\n",
    "import sys\n",
    "\n",
    "print(sys.argv)\n",
    "\n",
    "number1 = int(sys.argv[1])\n",
    "number2 = int(sys.argv[2])\n",
    "\n",
    "result = number1 + number2\n",
    "\n",
    "print(\"Result:\",result)"
   ]
  },
  {
   "cell_type": "code",
   "execution_count": 7,
   "metadata": {
    "collapsed": false
   },
   "outputs": [
    {
     "name": "stdout",
     "output_type": "stream",
     "text": [
      "['add.py', '2', '3']\n",
      "Result: 5\n"
     ]
    }
   ],
   "source": [
    "!python add.py 2 3"
   ]
  },
  {
   "cell_type": "code",
   "execution_count": 9,
   "metadata": {
    "collapsed": false
   },
   "outputs": [
    {
     "name": "stdout",
     "output_type": "stream",
     "text": [
      "Writing argparsetest.py\n"
     ]
    }
   ],
   "source": [
    "%%writefile argparsetest.py\n",
    "\n",
    "import argparse\n",
    "\n",
    "parser = argparse.ArgumentParser()\n",
    "\n",
    "parser.add_argument(\"echo\",help = \"echo the string you provide here\")\n",
    "\n",
    "args = parser.parse_args()\n",
    "\n",
    "print(args.echo)\n"
   ]
  },
  {
   "cell_type": "code",
   "execution_count": 10,
   "metadata": {
    "collapsed": false
   },
   "outputs": [
    {
     "name": "stderr",
     "output_type": "stream",
     "text": [
      "usage: argparsetest.py [-h] echo\n",
      "argparsetest.py: error: the following arguments are required: echo\n"
     ]
    }
   ],
   "source": [
    "!python argparsetest.py"
   ]
  },
  {
   "cell_type": "code",
   "execution_count": 13,
   "metadata": {
    "collapsed": false
   },
   "outputs": [
    {
     "name": "stdout",
     "output_type": "stream",
     "text": [
      "hello world\n"
     ]
    }
   ],
   "source": [
    "!python argparsetest.py \"hello world\""
   ]
  },
  {
   "cell_type": "code",
   "execution_count": 12,
   "metadata": {
    "collapsed": false
   },
   "outputs": [
    {
     "name": "stdout",
     "output_type": "stream",
     "text": [
      "usage: argparsetest.py [-h] echo\n",
      "\n",
      "positional arguments:\n",
      "  echo        echo the string you provide here\n",
      "\n",
      "optional arguments:\n",
      "  -h, --help  show this help message and exit\n"
     ]
    }
   ],
   "source": [
    "!python argparsetest.py -h"
   ]
  },
  {
   "cell_type": "code",
   "execution_count": 30,
   "metadata": {
    "collapsed": false
   },
   "outputs": [
    {
     "name": "stdout",
     "output_type": "stream",
     "text": [
      "Overwriting argparsetest.py\n"
     ]
    }
   ],
   "source": [
    "%%writefile argparsetest.py\n",
    "\n",
    "import argparse\n",
    "\n",
    "parser = argparse.ArgumentParser()\n",
    "\n",
    "parser.add_argument(\"--username\",help = \"echo the string you provide here\")\n",
    "parser.add_argument(\"--age\",help = \"enter age\")\n",
    "parser.add_argument(\"--userid\",help = \"enter user id\")\n",
    "parser.add_argument(\"--gender\",help = \"enter gender (male/female)\")\n",
    "\n",
    "\n",
    "args = parser.parse_args()\n",
    "\n",
    "print(args.username)\n",
    "print(args.userid)\n",
    "print(args.gender)\n",
    "print(args.age)\n"
   ]
  },
  {
   "cell_type": "code",
   "execution_count": 31,
   "metadata": {
    "collapsed": false
   },
   "outputs": [
    {
     "name": "stdout",
     "output_type": "stream",
     "text": [
      "usage: argparsetest.py [-h] [--username USERNAME] [--age AGE]\n",
      "                       [--userid USERID] [--gender GENDER]\n",
      "\n",
      "optional arguments:\n",
      "  -h, --help           show this help message and exit\n",
      "  --username USERNAME  echo the string you provide here\n",
      "  --age AGE            enter age\n",
      "  --userid USERID      enter user id\n",
      "  --gender GENDER      enter gender (male/female)\n"
     ]
    }
   ],
   "source": [
    "!python argparsetest.py --help"
   ]
  },
  {
   "cell_type": "code",
   "execution_count": 32,
   "metadata": {
    "collapsed": false
   },
   "outputs": [
    {
     "name": "stdout",
     "output_type": "stream",
     "text": [
      "Harry\n",
      "None\n",
      "None\n",
      "None\n"
     ]
    }
   ],
   "source": [
    "!python argparsetest.py --username Harry"
   ]
  },
  {
   "cell_type": "code",
   "execution_count": 33,
   "metadata": {
    "collapsed": false
   },
   "outputs": [
    {
     "name": "stdout",
     "output_type": "stream",
     "text": [
      "Harry\n",
      "10001\n",
      "Male\n",
      "None\n"
     ]
    }
   ],
   "source": [
    "!python argparsetest.py --username Harry --userid 10001 --gender Male"
   ]
  },
  {
   "cell_type": "code",
   "execution_count": 35,
   "metadata": {
    "collapsed": false
   },
   "outputs": [
    {
     "name": "stdout",
     "output_type": "stream",
     "text": [
      "Overwriting argparsetest.py\n"
     ]
    }
   ],
   "source": [
    "%%writefile argparsetest.py\n",
    "\n",
    "import argparse\n",
    "\n",
    "parser = argparse.ArgumentParser()\n",
    "\n",
    "parser.add_argument(\"--username\",help = \"echo the string you provide here\")\n",
    "parser.add_argument(\"--age\", type=int,default=0,help = \"enter age\")\n",
    "parser.add_argument(\"--userid\",help = \"enter user id\")\n",
    "parser.add_argument(\"--gender\",help = \"enter gender (male/female)\")\n",
    "\n",
    "\n",
    "args = parser.parse_args()\n",
    "\n",
    "print(args.username,type(args.username))\n",
    "print(args.userid,type(args.userid))\n",
    "print(args.gender,type(args.gender))\n",
    "print(args.age,type(args.age))\n"
   ]
  },
  {
   "cell_type": "code",
   "execution_count": 36,
   "metadata": {
    "collapsed": false
   },
   "outputs": [
    {
     "name": "stdout",
     "output_type": "stream",
     "text": [
      "Harry <class 'str'>\n",
      "10001 <class 'str'>\n",
      "Male <class 'str'>\n",
      "23 <class 'int'>\n"
     ]
    }
   ],
   "source": [
    "!python argparsetest.py --username Harry --userid 10001 --gender Male --age 23"
   ]
  },
  {
   "cell_type": "code",
   "execution_count": 48,
   "metadata": {
    "collapsed": false
   },
   "outputs": [
    {
     "name": "stdout",
     "output_type": "stream",
     "text": [
      "Overwriting calculator.py\n"
     ]
    }
   ],
   "source": [
    "%%writefile calculator.py\n",
    "\n",
    "import argparse\n",
    "\n",
    "parser = argparse.ArgumentParser()\n",
    "parser.add_argument(\"--cmd\",help = \"enter command (add,subtract,multiply,divide)\")\n",
    "parser.add_argument(\"--num1\", type=int,default=0,help = \"enter first number\")\n",
    "parser.add_argument(\"--num2\", type=int,default=0,help = \"enter second number\")\n",
    "parser.add_argument(\"--verbose\",action='store_true',help=\"verbose output\")\n",
    "\n",
    "args = parser.parse_args()\n",
    "\n",
    "print(\"Verbose mode:\",args.verbose)\n",
    "\n",
    "if args.verbose == True:\n",
    "    print(args.cmd,args.num1,args.num2)\n",
    "    \n",
    "if args.cmd == \"add\":\n",
    "    result = args.num1 + args.num2\n",
    "elif args.cmd == \"multiply\":\n",
    "    result = args.num1 * args.num2\n",
    "elif args.cmd == \"subtract\":\n",
    "    result = args.num1 - args.num2\n",
    "elif args.cmd == \"divide\":\n",
    "    result = args.num1/args.num2\n",
    "else:\n",
    "    result = None\n",
    "    print(\"Invalid command entered\")\n",
    "\n",
    "print(result)\n"
   ]
  },
  {
   "cell_type": "code",
   "execution_count": 54,
   "metadata": {
    "collapsed": false
   },
   "outputs": [
    {
     "name": "stdout",
     "output_type": "stream",
     "text": [
      "Verbose mode: False\n",
      "9\n"
     ]
    }
   ],
   "source": [
    "!python calculator.py --c \"add\" --num1 3 --num2 6 "
   ]
  },
  {
   "cell_type": "code",
   "execution_count": null,
   "metadata": {
    "collapsed": true
   },
   "outputs": [],
   "source": []
  }
 ],
 "metadata": {
  "kernelspec": {
   "display_name": "Python 3",
   "language": "python",
   "name": "python3"
  },
  "language_info": {
   "codemirror_mode": {
    "name": "ipython",
    "version": 3
   },
   "file_extension": ".py",
   "mimetype": "text/x-python",
   "name": "python",
   "nbconvert_exporter": "python",
   "pygments_lexer": "ipython3",
   "version": "3.6.0"
  }
 },
 "nbformat": 4,
 "nbformat_minor": 2
}
