{
 "cells": [
  {
   "cell_type": "code",
   "execution_count": 3,
   "metadata": {
    "collapsed": true
   },
   "outputs": [],
   "source": [
    "class Employee(object):\n",
    "    \n",
    "    def __init__(self):\n",
    "        self.id = 0\n",
    "        self.name = \"\"\n",
    "        self.dept = \"\"\n",
    "        self.salary = 0"
   ]
  },
  {
   "cell_type": "code",
   "execution_count": 4,
   "metadata": {
    "collapsed": false
   },
   "outputs": [],
   "source": [
    "employee1 = Employee()"
   ]
  },
  {
   "cell_type": "code",
   "execution_count": 5,
   "metadata": {
    "collapsed": false
   },
   "outputs": [
    {
     "data": {
      "text/plain": [
       "<__main__.Employee at 0x52e37f0>"
      ]
     },
     "execution_count": 5,
     "metadata": {},
     "output_type": "execute_result"
    }
   ],
   "source": [
    "employee1"
   ]
  },
  {
   "cell_type": "code",
   "execution_count": 7,
   "metadata": {
    "collapsed": false
   },
   "outputs": [
    {
     "name": "stdout",
     "output_type": "stream",
     "text": [
      "0\n",
      "\n",
      "\n",
      "0\n"
     ]
    }
   ],
   "source": [
    "print(employee1.id)\n",
    "print(employee1.name)\n",
    "print(employee1.dept)\n",
    "print(employee1.salary)"
   ]
  },
  {
   "cell_type": "code",
   "execution_count": 8,
   "metadata": {
    "collapsed": false
   },
   "outputs": [
    {
     "ename": "AttributeError",
     "evalue": "type object 'Employee' has no attribute 'id'",
     "output_type": "error",
     "traceback": [
      "\u001b[0;31m---------------------------------------------------------------------------\u001b[0m",
      "\u001b[0;31mAttributeError\u001b[0m                            Traceback (most recent call last)",
      "\u001b[0;32m<ipython-input-8-5f85aa0c7863>\u001b[0m in \u001b[0;36m<module>\u001b[0;34m()\u001b[0m\n\u001b[0;32m----> 1\u001b[0;31m \u001b[0mEmployee\u001b[0m\u001b[1;33m.\u001b[0m\u001b[0mid\u001b[0m\u001b[1;33m\u001b[0m\u001b[0m\n\u001b[0m",
      "\u001b[0;31mAttributeError\u001b[0m: type object 'Employee' has no attribute 'id'"
     ]
    }
   ],
   "source": [
    "Employee.id"
   ]
  },
  {
   "cell_type": "code",
   "execution_count": 10,
   "metadata": {
    "collapsed": true
   },
   "outputs": [],
   "source": [
    "class Employee(object):\n",
    "    \n",
    "    def __init__(self):\n",
    "        self.empid = 0\n",
    "        self.name = \"\"\n",
    "        self.dept = \"\"\n",
    "        self.salary = 0\n",
    "        \n",
    "    def setId(self,empid):\n",
    "        self.empid = empid\n",
    "        \n",
    "    def setName(self,name):\n",
    "        self.name = name\n",
    "        \n",
    "    def setDept(self,dept):\n",
    "        self.dept = dept\n",
    "        \n",
    "    def setSalary(self,salary):\n",
    "        self.salary = salary\n",
    "        "
   ]
  },
  {
   "cell_type": "code",
   "execution_count": 11,
   "metadata": {
    "collapsed": true
   },
   "outputs": [],
   "source": [
    "employee1 = Employee()"
   ]
  },
  {
   "cell_type": "code",
   "execution_count": 12,
   "metadata": {
    "collapsed": false
   },
   "outputs": [
    {
     "name": "stdout",
     "output_type": "stream",
     "text": [
      "0\n",
      "\n",
      "\n",
      "0\n"
     ]
    }
   ],
   "source": [
    "print(employee1.empid)\n",
    "print(employee1.name)\n",
    "print(employee1.dept)\n",
    "print(employee1.salary)"
   ]
  },
  {
   "cell_type": "code",
   "execution_count": 14,
   "metadata": {
    "collapsed": true
   },
   "outputs": [],
   "source": [
    "employee1.setId(1)\n",
    "employee1.setName(\"Harry\")\n",
    "employee1.setDept(\"Wizardry\")\n",
    "employee1.setSalary(100000)"
   ]
  },
  {
   "cell_type": "code",
   "execution_count": 15,
   "metadata": {
    "collapsed": false
   },
   "outputs": [
    {
     "name": "stdout",
     "output_type": "stream",
     "text": [
      "1\n",
      "Harry\n",
      "Wizardry\n",
      "100000\n"
     ]
    }
   ],
   "source": [
    "print(employee1.empid)\n",
    "print(employee1.name)\n",
    "print(employee1.dept)\n",
    "print(employee1.salary)"
   ]
  },
  {
   "cell_type": "code",
   "execution_count": 26,
   "metadata": {
    "collapsed": false
   },
   "outputs": [],
   "source": [
    "class Employee(object):\n",
    "    \n",
    "    def __init__(self,empid,name,dept,salary):\n",
    "        self.empid = empid\n",
    "        self.name = name\n",
    "        self.dept = dept\n",
    "        self.salary = salary\n",
    "        \n",
    "    def setId(self,empid):\n",
    "        self.empid = empid\n",
    "        \n",
    "    def setName(self,name):\n",
    "        self.name = name\n",
    "        \n",
    "    def setDept(self,dept):\n",
    "        self.dept = dept\n",
    "        \n",
    "    def setSalary(self,salary):\n",
    "        self.salary = salary\n",
    "        \n",
    "    def printEmployeeDetails(self):\n",
    "        print(self.empid)\n",
    "        print(self.name)\n",
    "        print(self.dept)\n",
    "        print(self.salary)"
   ]
  },
  {
   "cell_type": "code",
   "execution_count": 27,
   "metadata": {
    "collapsed": true
   },
   "outputs": [],
   "source": [
    "employee1 = Employee(1,\"Bob\",\"Computer Science\",10000)"
   ]
  },
  {
   "cell_type": "code",
   "execution_count": 20,
   "metadata": {
    "collapsed": false
   },
   "outputs": [
    {
     "name": "stdout",
     "output_type": "stream",
     "text": [
      "1\n",
      "Bob\n",
      "Computer Science\n",
      "10000\n"
     ]
    }
   ],
   "source": [
    "print(employee1.empid)\n",
    "print(employee1.name)\n",
    "print(employee1.dept)\n",
    "print(employee1.salary)"
   ]
  },
  {
   "cell_type": "code",
   "execution_count": 29,
   "metadata": {
    "collapsed": false
   },
   "outputs": [
    {
     "name": "stdout",
     "output_type": "stream",
     "text": [
      "1\n",
      "Bob\n",
      "Computer Science\n",
      "10000\n"
     ]
    }
   ],
   "source": [
    "employee1.printEmployeeDetails()"
   ]
  },
  {
   "cell_type": "code",
   "execution_count": 28,
   "metadata": {
    "collapsed": true
   },
   "outputs": [],
   "source": [
    "employee2 = Employee(2,\"Harry\",\"Psychology\",100000)"
   ]
  },
  {
   "cell_type": "code",
   "execution_count": 24,
   "metadata": {
    "collapsed": false,
    "scrolled": true
   },
   "outputs": [
    {
     "name": "stdout",
     "output_type": "stream",
     "text": [
      "1\n",
      "Bob\n",
      "Computer Science\n",
      "10000\n"
     ]
    }
   ],
   "source": [
    "print(employee1.empid)\n",
    "print(employee1.name)\n",
    "print(employee1.dept)\n",
    "print(employee1.salary)"
   ]
  },
  {
   "cell_type": "code",
   "execution_count": 25,
   "metadata": {
    "collapsed": false
   },
   "outputs": [
    {
     "name": "stdout",
     "output_type": "stream",
     "text": [
      "2\n",
      "Harry\n",
      "Psychology\n",
      "100000\n"
     ]
    }
   ],
   "source": [
    "print(employee2.empid)\n",
    "print(employee2.name)\n",
    "print(employee2.dept)\n",
    "print(employee2.salary)"
   ]
  },
  {
   "cell_type": "code",
   "execution_count": 37,
   "metadata": {
    "collapsed": false
   },
   "outputs": [
    {
     "name": "stdout",
     "output_type": "stream",
     "text": [
      "Id,Name,Dept,Salary\n",
      "\n"
     ]
    }
   ],
   "source": [
    "empFile = open(\"employees.txt\")\n",
    "\n",
    "line = empFile.readline()\n",
    "print(line)\n",
    "\n",
    "employees = []\n",
    "while True:\n",
    "    line = empFile.readline()\n",
    "    if line == \"\":\n",
    "        break\n",
    "        \n",
    "    tokens = line.split(\",\")\n",
    "    \n",
    "    employee = Employee(tokens[0],tokens[1],tokens[2],tokens[3])\n",
    "    \n",
    "    employees.append(employee)"
   ]
  },
  {
   "cell_type": "code",
   "execution_count": 38,
   "metadata": {
    "collapsed": false
   },
   "outputs": [
    {
     "data": {
      "text/plain": [
       "[<__main__.Employee at 0x5396358>,\n",
       " <__main__.Employee at 0x5396470>,\n",
       " <__main__.Employee at 0x53966a0>,\n",
       " <__main__.Employee at 0x5396780>,\n",
       " <__main__.Employee at 0x5396710>,\n",
       " <__main__.Employee at 0x5396ac8>,\n",
       " <__main__.Employee at 0x5396b38>,\n",
       " <__main__.Employee at 0x5396cc0>,\n",
       " <__main__.Employee at 0x5396da0>,\n",
       " <__main__.Employee at 0x53967b8>,\n",
       " <__main__.Employee at 0x537f1d0>]"
      ]
     },
     "execution_count": 38,
     "metadata": {},
     "output_type": "execute_result"
    }
   ],
   "source": [
    "employees"
   ]
  },
  {
   "cell_type": "code",
   "execution_count": 39,
   "metadata": {
    "collapsed": false
   },
   "outputs": [
    {
     "name": "stdout",
     "output_type": "stream",
     "text": [
      "1\n",
      "Bob\n",
      "Computer Science\n",
      "10000\n",
      "\n",
      "2\n",
      "Bob2\n",
      "Computer Science\n",
      "10000\n",
      "\n",
      "3\n",
      "Bob3\n",
      "Computer Science\n",
      "10000\n",
      "\n",
      "4\n",
      "Bob4\n",
      "Computer Science\n",
      "10000\n",
      "\n",
      "5\n",
      "Bob5\n",
      "Computer Science\n",
      "10000\n",
      "\n",
      "6\n",
      "Harry1\n",
      "Science\n",
      "100008\n",
      "\n",
      "7\n",
      "Harry2\n",
      "Science\n",
      "100007\n",
      "\n",
      "8\n",
      "Harry3\n",
      "Science\n",
      "100005\n",
      "\n",
      "9\n",
      "Harry4\n",
      "Science\n",
      "100003\n",
      "\n",
      "10\n",
      "Harr5\n",
      "Science\n",
      "100002\n",
      "\n",
      "11\n",
      "Mary\n",
      "Science\n",
      "100000\n"
     ]
    }
   ],
   "source": [
    "for employee in employees:\n",
    "    employee.printEmployeeDetails()"
   ]
  },
  {
   "cell_type": "code",
   "execution_count": 40,
   "metadata": {
    "collapsed": true
   },
   "outputs": [],
   "source": [
    "class Employee(object):\n",
    "    \n",
    "    def __init__(self,empid,name,dept,salary,tax_rate):\n",
    "        self.empid = empid\n",
    "        self.name = name\n",
    "        self.dept = dept\n",
    "        self.salary = salary\n",
    "        self.tax_rate = tax_rate\n",
    "        \n",
    "    def setId(self,empid):\n",
    "        self.empid = empid\n",
    "        \n",
    "    def setName(self,name):\n",
    "        self.name = name\n",
    "        \n",
    "    def setDept(self,dept):\n",
    "        self.dept = dept\n",
    "        \n",
    "    def setSalary(self,salary):\n",
    "        self.salary = salary\n",
    "        \n",
    "    def printEmployeeDetails(self):\n",
    "        print(self.empid)\n",
    "        print(self.name)\n",
    "        print(self.dept)\n",
    "        print(self.salary)\n",
    "        \n",
    "    def printSalaryReport(self):\n",
    "        self.printEmployeeDetails()\n",
    "        \n",
    "        # compute the tax and print out out the net salary\n",
    "        tax = self.salary * self.tax_rate\n",
    "        net_salary = self.salary - tax\n",
    "        \n",
    "        print(\"Tax:\",tax)\n",
    "        print(\"Net Salary:\",net_salary)"
   ]
  },
  {
   "cell_type": "code",
   "execution_count": 41,
   "metadata": {
    "collapsed": true
   },
   "outputs": [],
   "source": [
    "employee1 = Employee(1,\"Bob\",\"Computer Science\",10000,0.35)"
   ]
  },
  {
   "cell_type": "code",
   "execution_count": 42,
   "metadata": {
    "collapsed": false
   },
   "outputs": [
    {
     "name": "stdout",
     "output_type": "stream",
     "text": [
      "1\n",
      "Bob\n",
      "Computer Science\n",
      "10000\n",
      "Tax: 3500.0\n",
      "Net Salary: 6500.0\n"
     ]
    }
   ],
   "source": [
    "employee1.printSalaryReport()"
   ]
  },
  {
   "cell_type": "markdown",
   "metadata": {},
   "source": [
    "#### Creating class variables"
   ]
  },
  {
   "cell_type": "code",
   "execution_count": 60,
   "metadata": {
    "collapsed": true
   },
   "outputs": [],
   "source": [
    "class Employee(object):\n",
    "    \n",
    "    tax_rate = 0.35\n",
    "    \n",
    "    def __init__(self,empid,name,dept,salary):\n",
    "        self.empid = empid\n",
    "        self.name = name\n",
    "        self.dept = dept\n",
    "        self.salary = salary\n",
    "        \n",
    "    def setId(self,empid):\n",
    "        self.empid = empid\n",
    "        \n",
    "    def setName(self,name):\n",
    "        self.name = name\n",
    "        \n",
    "    def setDept(self,dept):\n",
    "        self.dept = dept\n",
    "        \n",
    "    def setSalary(self,salary):\n",
    "        self.salary = salary\n",
    "        \n",
    "    def printEmployeeDetails(self):\n",
    "        print(self.empid)\n",
    "        print(self.name)\n",
    "        print(self.dept)\n",
    "        print(self.salary)\n",
    "        \n",
    "    def printSalaryReport(self):\n",
    "        self.printEmployeeDetails()\n",
    "        \n",
    "        # compute the tax and print out out the net salary\n",
    "        tax = self.salary * Employee.tax_rate\n",
    "        net_salary = self.salary - tax\n",
    "        \n",
    "        print(\"Tax:\",tax)\n",
    "        print(\"Net Salary:\",net_salary)\n",
    "        print(\"\\n\")"
   ]
  },
  {
   "cell_type": "code",
   "execution_count": 61,
   "metadata": {
    "collapsed": true
   },
   "outputs": [],
   "source": [
    "employee1 = Employee(1,\"Bob\",\"Computer Science\",10000)"
   ]
  },
  {
   "cell_type": "code",
   "execution_count": 62,
   "metadata": {
    "collapsed": false
   },
   "outputs": [
    {
     "name": "stdout",
     "output_type": "stream",
     "text": [
      "1\n",
      "Bob\n",
      "Computer Science\n",
      "10000\n",
      "Tax: 3500.0\n",
      "Net Salary: 6500.0\n",
      "\n",
      "\n"
     ]
    }
   ],
   "source": [
    "employee1.printSalaryReport()"
   ]
  },
  {
   "cell_type": "code",
   "execution_count": 63,
   "metadata": {
    "collapsed": false
   },
   "outputs": [
    {
     "name": "stdout",
     "output_type": "stream",
     "text": [
      "Id,Name,Dept,Salary\n",
      "\n",
      "1\n",
      "Bob\n",
      "Computer Science\n",
      "10000.0\n",
      "Tax: 3500.0\n",
      "Net Salary: 6500.0\n",
      "\n",
      "\n",
      "2\n",
      "Bob2\n",
      "Computer Science\n",
      "10000.0\n",
      "Tax: 3500.0\n",
      "Net Salary: 6500.0\n",
      "\n",
      "\n",
      "3\n",
      "Bob3\n",
      "Computer Science\n",
      "10000.0\n",
      "Tax: 3500.0\n",
      "Net Salary: 6500.0\n",
      "\n",
      "\n",
      "4\n",
      "Bob4\n",
      "Computer Science\n",
      "10000.0\n",
      "Tax: 3500.0\n",
      "Net Salary: 6500.0\n",
      "\n",
      "\n",
      "5\n",
      "Bob5\n",
      "Computer Science\n",
      "10000.0\n",
      "Tax: 3500.0\n",
      "Net Salary: 6500.0\n",
      "\n",
      "\n",
      "6\n",
      "Harry1\n",
      "Science\n",
      "100008.0\n",
      "Tax: 35002.799999999996\n",
      "Net Salary: 65005.200000000004\n",
      "\n",
      "\n",
      "7\n",
      "Harry2\n",
      "Science\n",
      "100007.0\n",
      "Tax: 35002.45\n",
      "Net Salary: 65004.55\n",
      "\n",
      "\n",
      "8\n",
      "Harry3\n",
      "Science\n",
      "100005.0\n",
      "Tax: 35001.75\n",
      "Net Salary: 65003.25\n",
      "\n",
      "\n",
      "9\n",
      "Harry4\n",
      "Science\n",
      "100003.0\n",
      "Tax: 35001.049999999996\n",
      "Net Salary: 65001.950000000004\n",
      "\n",
      "\n",
      "10\n",
      "Harr5\n",
      "Science\n",
      "100002.0\n",
      "Tax: 35000.7\n",
      "Net Salary: 65001.3\n",
      "\n",
      "\n",
      "11\n",
      "Mary\n",
      "Science\n",
      "100000.0\n",
      "Tax: 35000.0\n",
      "Net Salary: 65000.0\n",
      "\n",
      "\n"
     ]
    }
   ],
   "source": [
    "empFile = open(\"employees.txt\")\n",
    "\n",
    "line = empFile.readline()\n",
    "print(line)\n",
    "\n",
    "employees = []\n",
    "while True:\n",
    "    line = empFile.readline()\n",
    "    if line == \"\":\n",
    "        break\n",
    "        \n",
    "    tokens = line.split(\",\")\n",
    "    \n",
    "    employee = Employee(int(tokens[0]),tokens[1],tokens[2],float(tokens[3]))\n",
    "    \n",
    "    employees.append(employee)\n",
    "    \n",
    "for employee in employees:\n",
    "    employee.printSalaryReport()"
   ]
  },
  {
   "cell_type": "code",
   "execution_count": 64,
   "metadata": {
    "collapsed": false
   },
   "outputs": [
    {
     "name": "stdout",
     "output_type": "stream",
     "text": [
      "3\n",
      "Bob3\n",
      "Computer Science\n",
      "10000.0\n",
      "Tax: 3500.0\n",
      "Net Salary: 6500.0\n",
      "\n",
      "\n"
     ]
    }
   ],
   "source": [
    "employees[2].printSalaryReport()"
   ]
  },
  {
   "cell_type": "markdown",
   "metadata": {},
   "source": [
    "#### Overloading functions and operators"
   ]
  },
  {
   "cell_type": "code",
   "execution_count": 65,
   "metadata": {
    "collapsed": true
   },
   "outputs": [],
   "source": [
    "listA = [1,2,3,4]"
   ]
  },
  {
   "cell_type": "code",
   "execution_count": 66,
   "metadata": {
    "collapsed": false
   },
   "outputs": [
    {
     "name": "stdout",
     "output_type": "stream",
     "text": [
      "[1, 2, 3, 4]\n"
     ]
    }
   ],
   "source": [
    "print(listA)"
   ]
  },
  {
   "cell_type": "code",
   "execution_count": 67,
   "metadata": {
    "collapsed": true
   },
   "outputs": [],
   "source": [
    "text = \"Jack and Jill\""
   ]
  },
  {
   "cell_type": "code",
   "execution_count": 68,
   "metadata": {
    "collapsed": false
   },
   "outputs": [
    {
     "name": "stdout",
     "output_type": "stream",
     "text": [
      "Jack and Jill\n"
     ]
    }
   ],
   "source": [
    "print(text)"
   ]
  },
  {
   "cell_type": "code",
   "execution_count": 69,
   "metadata": {
    "collapsed": false
   },
   "outputs": [
    {
     "name": "stdout",
     "output_type": "stream",
     "text": [
      "<__main__.Employee object at 0x00000000053B8EB8>\n"
     ]
    }
   ],
   "source": [
    "print(employee1)"
   ]
  },
  {
   "cell_type": "code",
   "execution_count": 76,
   "metadata": {
    "collapsed": true
   },
   "outputs": [],
   "source": [
    "class Employee(object):\n",
    "    \n",
    "    tax_rate = 0.35\n",
    "    \n",
    "    def __init__(self,empid,name,dept,salary):\n",
    "        self.empid = empid\n",
    "        self.name = name\n",
    "        self.dept = dept\n",
    "        self.salary = salary\n",
    "        \n",
    "    def setId(self,empid):\n",
    "        self.empid = empid\n",
    "        \n",
    "    def setName(self,name):\n",
    "        self.name = name\n",
    "        \n",
    "    def setDept(self,dept):\n",
    "        self.dept = dept\n",
    "        \n",
    "    def setSalary(self,salary):\n",
    "        self.salary = salary\n",
    "        \n",
    "    def printEmployeeDetails(self):\n",
    "        print(self.empid)\n",
    "        print(self.name)\n",
    "        print(self.dept)\n",
    "        print(self.salary)\n",
    "        \n",
    "    def __str__(self):\n",
    "        \n",
    "        result = str(self.empid) + \"\\n\" + self.name + \"\\n\" + self.dept + \"\\n\" + str(self.salary) + \"\\n\"\n",
    "        \n",
    "        return result\n",
    "        \n",
    "    def printSalaryReport(self):\n",
    "        self.printEmployeeDetails()\n",
    "        \n",
    "        # compute the tax and print out out the net salary\n",
    "        tax = self.salary * Employee.tax_rate\n",
    "        net_salary = self.salary - tax\n",
    "        \n",
    "        print(\"Tax:\",tax)\n",
    "        print(\"Net Salary:\",net_salary)\n",
    "        print(\"\\n\")"
   ]
  },
  {
   "cell_type": "code",
   "execution_count": 77,
   "metadata": {
    "collapsed": true
   },
   "outputs": [],
   "source": [
    "employee1 = Employee(1,\"Bob\",\"Computer Science\",10000)"
   ]
  },
  {
   "cell_type": "code",
   "execution_count": 78,
   "metadata": {
    "collapsed": false
   },
   "outputs": [
    {
     "name": "stdout",
     "output_type": "stream",
     "text": [
      "1\n",
      "Bob\n",
      "Computer Science\n",
      "10000\n",
      "\n"
     ]
    }
   ],
   "source": [
    "print(employee1)"
   ]
  },
  {
   "cell_type": "code",
   "execution_count": null,
   "metadata": {
    "collapsed": true
   },
   "outputs": [],
   "source": []
  }
 ],
 "metadata": {
  "kernelspec": {
   "display_name": "Python 3",
   "language": "python",
   "name": "python3"
  },
  "language_info": {
   "codemirror_mode": {
    "name": "ipython",
    "version": 3
   },
   "file_extension": ".py",
   "mimetype": "text/x-python",
   "name": "python",
   "nbconvert_exporter": "python",
   "pygments_lexer": "ipython3",
   "version": "3.6.0"
  }
 },
 "nbformat": 4,
 "nbformat_minor": 2
}
